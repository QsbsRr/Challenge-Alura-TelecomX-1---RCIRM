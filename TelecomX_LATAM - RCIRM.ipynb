{
  "cells": [
    {
      "cell_type": "markdown",
      "metadata": {
        "id": "4foVEKhrlqcH"
      },
      "source": [
        "# 📌 Extracción"
      ]
    },
    {
      "cell_type": "code",
      "execution_count": 402,
      "metadata": {
        "id": "1--uPM88l7JH"
      },
      "outputs": [],
      "source": [
        "#Importando las librerías necesarias\n",
        "\n",
        "import numpy as np\n",
        "import pandas as pd\n",
        "import matplotlib.pyplot as plt\n",
        "import seaborn as sb"
      ]
    },
    {
      "cell_type": "markdown",
      "metadata": {},
      "source": [
        "## Extracción de datos"
      ]
    },
    {
      "cell_type": "code",
      "execution_count": 403,
      "metadata": {},
      "outputs": [],
      "source": [
        "#Importando los datos a partir de la api\n",
        "pd.set_option('display.max_columns',None)\n",
        "df_json_telecomx = pd.read_json('https://raw.githubusercontent.com/ingridcristh/challenge2-data-science-LATAM/main/TelecomX_Data.json')"
      ]
    },
    {
      "cell_type": "code",
      "execution_count": 404,
      "metadata": {},
      "outputs": [
        {
          "data": {
            "text/html": [
              "<div>\n",
              "<style scoped>\n",
              "    .dataframe tbody tr th:only-of-type {\n",
              "        vertical-align: middle;\n",
              "    }\n",
              "\n",
              "    .dataframe tbody tr th {\n",
              "        vertical-align: top;\n",
              "    }\n",
              "\n",
              "    .dataframe thead th {\n",
              "        text-align: right;\n",
              "    }\n",
              "</style>\n",
              "<table border=\"1\" class=\"dataframe\">\n",
              "  <thead>\n",
              "    <tr style=\"text-align: right;\">\n",
              "      <th></th>\n",
              "      <th>customerID</th>\n",
              "      <th>Churn</th>\n",
              "      <th>customer</th>\n",
              "      <th>phone</th>\n",
              "      <th>internet</th>\n",
              "      <th>account</th>\n",
              "    </tr>\n",
              "  </thead>\n",
              "  <tbody>\n",
              "    <tr>\n",
              "      <th>0</th>\n",
              "      <td>0002-ORFBO</td>\n",
              "      <td>No</td>\n",
              "      <td>{'gender': 'Female', 'SeniorCitizen': 0, 'Part...</td>\n",
              "      <td>{'PhoneService': 'Yes', 'MultipleLines': 'No'}</td>\n",
              "      <td>{'InternetService': 'DSL', 'OnlineSecurity': '...</td>\n",
              "      <td>{'Contract': 'One year', 'PaperlessBilling': '...</td>\n",
              "    </tr>\n",
              "    <tr>\n",
              "      <th>1</th>\n",
              "      <td>0003-MKNFE</td>\n",
              "      <td>No</td>\n",
              "      <td>{'gender': 'Male', 'SeniorCitizen': 0, 'Partne...</td>\n",
              "      <td>{'PhoneService': 'Yes', 'MultipleLines': 'Yes'}</td>\n",
              "      <td>{'InternetService': 'DSL', 'OnlineSecurity': '...</td>\n",
              "      <td>{'Contract': 'Month-to-month', 'PaperlessBilli...</td>\n",
              "    </tr>\n",
              "    <tr>\n",
              "      <th>2</th>\n",
              "      <td>0004-TLHLJ</td>\n",
              "      <td>Yes</td>\n",
              "      <td>{'gender': 'Male', 'SeniorCitizen': 0, 'Partne...</td>\n",
              "      <td>{'PhoneService': 'Yes', 'MultipleLines': 'No'}</td>\n",
              "      <td>{'InternetService': 'Fiber optic', 'OnlineSecu...</td>\n",
              "      <td>{'Contract': 'Month-to-month', 'PaperlessBilli...</td>\n",
              "    </tr>\n",
              "  </tbody>\n",
              "</table>\n",
              "</div>"
            ],
            "text/plain": [
              "   customerID Churn                                           customer  \\\n",
              "0  0002-ORFBO    No  {'gender': 'Female', 'SeniorCitizen': 0, 'Part...   \n",
              "1  0003-MKNFE    No  {'gender': 'Male', 'SeniorCitizen': 0, 'Partne...   \n",
              "2  0004-TLHLJ   Yes  {'gender': 'Male', 'SeniorCitizen': 0, 'Partne...   \n",
              "\n",
              "                                             phone  \\\n",
              "0   {'PhoneService': 'Yes', 'MultipleLines': 'No'}   \n",
              "1  {'PhoneService': 'Yes', 'MultipleLines': 'Yes'}   \n",
              "2   {'PhoneService': 'Yes', 'MultipleLines': 'No'}   \n",
              "\n",
              "                                            internet  \\\n",
              "0  {'InternetService': 'DSL', 'OnlineSecurity': '...   \n",
              "1  {'InternetService': 'DSL', 'OnlineSecurity': '...   \n",
              "2  {'InternetService': 'Fiber optic', 'OnlineSecu...   \n",
              "\n",
              "                                             account  \n",
              "0  {'Contract': 'One year', 'PaperlessBilling': '...  \n",
              "1  {'Contract': 'Month-to-month', 'PaperlessBilli...  \n",
              "2  {'Contract': 'Month-to-month', 'PaperlessBilli...  "
            ]
          },
          "execution_count": 404,
          "metadata": {},
          "output_type": "execute_result"
        }
      ],
      "source": [
        "#Echamos un vistazo al JSON\n",
        "df_json_telecomx.head(3)"
      ]
    },
    {
      "cell_type": "code",
      "execution_count": 405,
      "metadata": {},
      "outputs": [],
      "source": [
        "#Normalizamos las columnas que lo requieren\n",
        "cliente = pd.json_normalize(df_json_telecomx['customer'])\n",
        "telefono = pd.json_normalize(df_json_telecomx['phone'])\n",
        "internet = pd.json_normalize(df_json_telecomx['internet'])\n",
        "cuenta = pd.json_normalize(df_json_telecomx['account'])\n",
        "clienteid = df_json_telecomx['customerID']\n",
        "cancelacion = df_json_telecomx['Churn']"
      ]
    },
    {
      "cell_type": "code",
      "execution_count": 406,
      "metadata": {},
      "outputs": [],
      "source": [
        "#Concatenando los datos normalizados\n",
        "df_telecomx = pd.concat([clienteid, cancelacion, cliente, telefono, internet, cuenta], axis=1)"
      ]
    },
    {
      "cell_type": "code",
      "execution_count": 407,
      "metadata": {},
      "outputs": [
        {
          "data": {
            "text/html": [
              "<div>\n",
              "<style scoped>\n",
              "    .dataframe tbody tr th:only-of-type {\n",
              "        vertical-align: middle;\n",
              "    }\n",
              "\n",
              "    .dataframe tbody tr th {\n",
              "        vertical-align: top;\n",
              "    }\n",
              "\n",
              "    .dataframe thead th {\n",
              "        text-align: right;\n",
              "    }\n",
              "</style>\n",
              "<table border=\"1\" class=\"dataframe\">\n",
              "  <thead>\n",
              "    <tr style=\"text-align: right;\">\n",
              "      <th></th>\n",
              "      <th>customerID</th>\n",
              "      <th>Churn</th>\n",
              "      <th>gender</th>\n",
              "      <th>SeniorCitizen</th>\n",
              "      <th>Partner</th>\n",
              "      <th>Dependents</th>\n",
              "      <th>tenure</th>\n",
              "      <th>PhoneService</th>\n",
              "      <th>MultipleLines</th>\n",
              "      <th>InternetService</th>\n",
              "      <th>OnlineSecurity</th>\n",
              "      <th>OnlineBackup</th>\n",
              "      <th>DeviceProtection</th>\n",
              "      <th>TechSupport</th>\n",
              "      <th>StreamingTV</th>\n",
              "      <th>StreamingMovies</th>\n",
              "      <th>Contract</th>\n",
              "      <th>PaperlessBilling</th>\n",
              "      <th>PaymentMethod</th>\n",
              "      <th>Charges.Monthly</th>\n",
              "      <th>Charges.Total</th>\n",
              "    </tr>\n",
              "  </thead>\n",
              "  <tbody>\n",
              "    <tr>\n",
              "      <th>0</th>\n",
              "      <td>0002-ORFBO</td>\n",
              "      <td>No</td>\n",
              "      <td>Female</td>\n",
              "      <td>0</td>\n",
              "      <td>Yes</td>\n",
              "      <td>Yes</td>\n",
              "      <td>9</td>\n",
              "      <td>Yes</td>\n",
              "      <td>No</td>\n",
              "      <td>DSL</td>\n",
              "      <td>No</td>\n",
              "      <td>Yes</td>\n",
              "      <td>No</td>\n",
              "      <td>Yes</td>\n",
              "      <td>Yes</td>\n",
              "      <td>No</td>\n",
              "      <td>One year</td>\n",
              "      <td>Yes</td>\n",
              "      <td>Mailed check</td>\n",
              "      <td>65.6</td>\n",
              "      <td>593.3</td>\n",
              "    </tr>\n",
              "    <tr>\n",
              "      <th>1</th>\n",
              "      <td>0003-MKNFE</td>\n",
              "      <td>No</td>\n",
              "      <td>Male</td>\n",
              "      <td>0</td>\n",
              "      <td>No</td>\n",
              "      <td>No</td>\n",
              "      <td>9</td>\n",
              "      <td>Yes</td>\n",
              "      <td>Yes</td>\n",
              "      <td>DSL</td>\n",
              "      <td>No</td>\n",
              "      <td>No</td>\n",
              "      <td>No</td>\n",
              "      <td>No</td>\n",
              "      <td>No</td>\n",
              "      <td>Yes</td>\n",
              "      <td>Month-to-month</td>\n",
              "      <td>No</td>\n",
              "      <td>Mailed check</td>\n",
              "      <td>59.9</td>\n",
              "      <td>542.4</td>\n",
              "    </tr>\n",
              "    <tr>\n",
              "      <th>2</th>\n",
              "      <td>0004-TLHLJ</td>\n",
              "      <td>Yes</td>\n",
              "      <td>Male</td>\n",
              "      <td>0</td>\n",
              "      <td>No</td>\n",
              "      <td>No</td>\n",
              "      <td>4</td>\n",
              "      <td>Yes</td>\n",
              "      <td>No</td>\n",
              "      <td>Fiber optic</td>\n",
              "      <td>No</td>\n",
              "      <td>No</td>\n",
              "      <td>Yes</td>\n",
              "      <td>No</td>\n",
              "      <td>No</td>\n",
              "      <td>No</td>\n",
              "      <td>Month-to-month</td>\n",
              "      <td>Yes</td>\n",
              "      <td>Electronic check</td>\n",
              "      <td>73.9</td>\n",
              "      <td>280.85</td>\n",
              "    </tr>\n",
              "    <tr>\n",
              "      <th>3</th>\n",
              "      <td>0011-IGKFF</td>\n",
              "      <td>Yes</td>\n",
              "      <td>Male</td>\n",
              "      <td>1</td>\n",
              "      <td>Yes</td>\n",
              "      <td>No</td>\n",
              "      <td>13</td>\n",
              "      <td>Yes</td>\n",
              "      <td>No</td>\n",
              "      <td>Fiber optic</td>\n",
              "      <td>No</td>\n",
              "      <td>Yes</td>\n",
              "      <td>Yes</td>\n",
              "      <td>No</td>\n",
              "      <td>Yes</td>\n",
              "      <td>Yes</td>\n",
              "      <td>Month-to-month</td>\n",
              "      <td>Yes</td>\n",
              "      <td>Electronic check</td>\n",
              "      <td>98.0</td>\n",
              "      <td>1237.85</td>\n",
              "    </tr>\n",
              "    <tr>\n",
              "      <th>4</th>\n",
              "      <td>0013-EXCHZ</td>\n",
              "      <td>Yes</td>\n",
              "      <td>Female</td>\n",
              "      <td>1</td>\n",
              "      <td>Yes</td>\n",
              "      <td>No</td>\n",
              "      <td>3</td>\n",
              "      <td>Yes</td>\n",
              "      <td>No</td>\n",
              "      <td>Fiber optic</td>\n",
              "      <td>No</td>\n",
              "      <td>No</td>\n",
              "      <td>No</td>\n",
              "      <td>Yes</td>\n",
              "      <td>Yes</td>\n",
              "      <td>No</td>\n",
              "      <td>Month-to-month</td>\n",
              "      <td>Yes</td>\n",
              "      <td>Mailed check</td>\n",
              "      <td>83.9</td>\n",
              "      <td>267.4</td>\n",
              "    </tr>\n",
              "  </tbody>\n",
              "</table>\n",
              "</div>"
            ],
            "text/plain": [
              "   customerID Churn  gender  SeniorCitizen Partner Dependents  tenure  \\\n",
              "0  0002-ORFBO    No  Female              0     Yes        Yes       9   \n",
              "1  0003-MKNFE    No    Male              0      No         No       9   \n",
              "2  0004-TLHLJ   Yes    Male              0      No         No       4   \n",
              "3  0011-IGKFF   Yes    Male              1     Yes         No      13   \n",
              "4  0013-EXCHZ   Yes  Female              1     Yes         No       3   \n",
              "\n",
              "  PhoneService MultipleLines InternetService OnlineSecurity OnlineBackup  \\\n",
              "0          Yes            No             DSL             No          Yes   \n",
              "1          Yes           Yes             DSL             No           No   \n",
              "2          Yes            No     Fiber optic             No           No   \n",
              "3          Yes            No     Fiber optic             No          Yes   \n",
              "4          Yes            No     Fiber optic             No           No   \n",
              "\n",
              "  DeviceProtection TechSupport StreamingTV StreamingMovies        Contract  \\\n",
              "0               No         Yes         Yes              No        One year   \n",
              "1               No          No          No             Yes  Month-to-month   \n",
              "2              Yes          No          No              No  Month-to-month   \n",
              "3              Yes          No         Yes             Yes  Month-to-month   \n",
              "4               No         Yes         Yes              No  Month-to-month   \n",
              "\n",
              "  PaperlessBilling     PaymentMethod  Charges.Monthly Charges.Total  \n",
              "0              Yes      Mailed check             65.6         593.3  \n",
              "1               No      Mailed check             59.9         542.4  \n",
              "2              Yes  Electronic check             73.9        280.85  \n",
              "3              Yes  Electronic check             98.0       1237.85  \n",
              "4              Yes      Mailed check             83.9         267.4  "
            ]
          },
          "execution_count": 407,
          "metadata": {},
          "output_type": "execute_result"
        }
      ],
      "source": [
        "#Verificación de los datos normalizados\n",
        "df_telecomx.head(5)"
      ]
    },
    {
      "cell_type": "markdown",
      "metadata": {},
      "source": [
        "## Conociendo el conjunto de datos"
      ]
    },
    {
      "cell_type": "code",
      "execution_count": 408,
      "metadata": {
        "id": "bsm-WTLjmHvt"
      },
      "outputs": [
        {
          "name": "stdout",
          "output_type": "stream",
          "text": [
            "<class 'pandas.core.frame.DataFrame'>\n",
            "RangeIndex: 7267 entries, 0 to 7266\n",
            "Data columns (total 21 columns):\n",
            " #   Column            Non-Null Count  Dtype  \n",
            "---  ------            --------------  -----  \n",
            " 0   customerID        7267 non-null   object \n",
            " 1   Churn             7267 non-null   object \n",
            " 2   gender            7267 non-null   object \n",
            " 3   SeniorCitizen     7267 non-null   int64  \n",
            " 4   Partner           7267 non-null   object \n",
            " 5   Dependents        7267 non-null   object \n",
            " 6   tenure            7267 non-null   int64  \n",
            " 7   PhoneService      7267 non-null   object \n",
            " 8   MultipleLines     7267 non-null   object \n",
            " 9   InternetService   7267 non-null   object \n",
            " 10  OnlineSecurity    7267 non-null   object \n",
            " 11  OnlineBackup      7267 non-null   object \n",
            " 12  DeviceProtection  7267 non-null   object \n",
            " 13  TechSupport       7267 non-null   object \n",
            " 14  StreamingTV       7267 non-null   object \n",
            " 15  StreamingMovies   7267 non-null   object \n",
            " 16  Contract          7267 non-null   object \n",
            " 17  PaperlessBilling  7267 non-null   object \n",
            " 18  PaymentMethod     7267 non-null   object \n",
            " 19  Charges.Monthly   7267 non-null   float64\n",
            " 20  Charges.Total     7267 non-null   object \n",
            "dtypes: float64(1), int64(2), object(18)\n",
            "memory usage: 1.2+ MB\n"
          ]
        }
      ],
      "source": [
        "#Analizando los tipos de datos del json\n",
        "df_telecomx.info()"
      ]
    },
    {
      "cell_type": "markdown",
      "metadata": {},
      "source": [
        "## Comprobación de incoherencias en los datos"
      ]
    },
    {
      "cell_type": "code",
      "execution_count": 409,
      "metadata": {},
      "outputs": [
        {
          "data": {
            "text/html": [
              "<div>\n",
              "<style scoped>\n",
              "    .dataframe tbody tr th:only-of-type {\n",
              "        vertical-align: middle;\n",
              "    }\n",
              "\n",
              "    .dataframe tbody tr th {\n",
              "        vertical-align: top;\n",
              "    }\n",
              "\n",
              "    .dataframe thead th {\n",
              "        text-align: right;\n",
              "    }\n",
              "</style>\n",
              "<table border=\"1\" class=\"dataframe\">\n",
              "  <thead>\n",
              "    <tr style=\"text-align: right;\">\n",
              "      <th></th>\n",
              "      <th>customerID</th>\n",
              "      <th>Churn</th>\n",
              "      <th>gender</th>\n",
              "      <th>SeniorCitizen</th>\n",
              "      <th>Partner</th>\n",
              "      <th>Dependents</th>\n",
              "      <th>tenure</th>\n",
              "      <th>PhoneService</th>\n",
              "      <th>MultipleLines</th>\n",
              "      <th>InternetService</th>\n",
              "      <th>OnlineSecurity</th>\n",
              "      <th>OnlineBackup</th>\n",
              "      <th>DeviceProtection</th>\n",
              "      <th>TechSupport</th>\n",
              "      <th>StreamingTV</th>\n",
              "      <th>StreamingMovies</th>\n",
              "      <th>Contract</th>\n",
              "      <th>PaperlessBilling</th>\n",
              "      <th>PaymentMethod</th>\n",
              "      <th>Charges.Monthly</th>\n",
              "      <th>Charges.Total</th>\n",
              "    </tr>\n",
              "  </thead>\n",
              "  <tbody>\n",
              "  </tbody>\n",
              "</table>\n",
              "</div>"
            ],
            "text/plain": [
              "Empty DataFrame\n",
              "Columns: [customerID, Churn, gender, SeniorCitizen, Partner, Dependents, tenure, PhoneService, MultipleLines, InternetService, OnlineSecurity, OnlineBackup, DeviceProtection, TechSupport, StreamingTV, StreamingMovies, Contract, PaperlessBilling, PaymentMethod, Charges.Monthly, Charges.Total]\n",
              "Index: []"
            ]
          },
          "execution_count": 409,
          "metadata": {},
          "output_type": "execute_result"
        }
      ],
      "source": [
        "# Comprobar la existencia de registros duplicados\n",
        "datos_duplicados = df_telecomx[df_telecomx.duplicated()]\n",
        "datos_duplicados"
      ]
    },
    {
      "cell_type": "code",
      "execution_count": 410,
      "metadata": {},
      "outputs": [
        {
          "name": "stdout",
          "output_type": "stream",
          "text": [
            "['No' 'Yes' '']\n",
            "[0 1]\n",
            "['Yes' 'No']\n",
            "['Yes' 'No']\n",
            "['Yes' 'No']\n",
            "['No' 'Yes' 'No phone service']\n",
            "['No' 'Yes' 'No internet service']\n",
            "['Yes' 'No' 'No internet service']\n",
            "['No' 'Yes' 'No internet service']\n",
            "['Yes' 'No' 'No internet service']\n",
            "['Yes' 'No' 'No internet service']\n",
            "['No' 'Yes' 'No internet service']\n",
            "['Yes' 'No']\n"
          ]
        }
      ],
      "source": [
        "print(pd.unique(df_telecomx['Churn']))\n",
        "print(pd.unique(df_telecomx['SeniorCitizen']))\n",
        "print(pd.unique(df_telecomx['Partner']))\n",
        "print(pd.unique(df_telecomx['Dependents']))\n",
        "print(pd.unique(df_telecomx['PhoneService']))\n",
        "print(pd.unique(df_telecomx['MultipleLines']))\n",
        "print(pd.unique(df_telecomx['OnlineSecurity']))\n",
        "print(pd.unique(df_telecomx['OnlineBackup']))\n",
        "print(pd.unique(df_telecomx['DeviceProtection']))\n",
        "print(pd.unique(df_telecomx['TechSupport']))\n",
        "print(pd.unique(df_telecomx['StreamingTV']))\n",
        "print(pd.unique(df_telecomx['StreamingMovies']))\n",
        "print(pd.unique(df_telecomx['PaperlessBilling']))"
      ]
    },
    {
      "cell_type": "markdown",
      "metadata": {},
      "source": [
        "### Inconsistencias encontradas:\n",
        "1) Valores vacíos en la columna 'Churn'\n",
        "2) 'SeniorCitizen' fue manejado con valores enteros, mientras que el resto de columnas con \"Si\" y \"No\", son cadenas.\n",
        "3) No hay registros duplicados\n",
        "4) 'Charges.Total' debería ser un 'float', no 'object'.\n",
        "5) Se puede traducir al español para  mejor comprensión del dataset"
      ]
    },
    {
      "cell_type": "markdown",
      "metadata": {},
      "source": [
        "# 🔧 Transformación"
      ]
    },
    {
      "cell_type": "markdown",
      "metadata": {},
      "source": [
        "## Manejo de inconsistencias"
      ]
    },
    {
      "cell_type": "markdown",
      "metadata": {},
      "source": [
        "### 1) Valores vacíos en la columna 'Churn'"
      ]
    },
    {
      "cell_type": "code",
      "execution_count": 411,
      "metadata": {},
      "outputs": [],
      "source": [
        "#Cambiando las cadenas vacías en la columna 'Churn' por nan\n",
        "df_telecomx['Churn'] = df_telecomx['Churn'].replace('',np.nan)"
      ]
    },
    {
      "cell_type": "code",
      "execution_count": 412,
      "metadata": {},
      "outputs": [],
      "source": [
        "#Eliminando los registros sin valor en Churn (Es el dato principal a analizar para este caso)\n",
        "df_telecomx = df_telecomx.dropna()"
      ]
    },
    {
      "cell_type": "code",
      "execution_count": 413,
      "metadata": {},
      "outputs": [
        {
          "data": {
            "text/plain": [
              "array(['No', 'Yes'], dtype=object)"
            ]
          },
          "execution_count": 413,
          "metadata": {},
          "output_type": "execute_result"
        }
      ],
      "source": [
        "#Comprobando los valores existentes para la columna 'Churn'\n",
        "pd.unique(df_telecomx['Churn'])"
      ]
    },
    {
      "cell_type": "code",
      "execution_count": 414,
      "metadata": {},
      "outputs": [
        {
          "data": {
            "text/plain": [
              "(7043, 21)"
            ]
          },
          "execution_count": 414,
          "metadata": {},
          "output_type": "execute_result"
        }
      ],
      "source": [
        "#Comprobando el tamaño del dataframe\n",
        "df_telecomx.shape"
      ]
    },
    {
      "cell_type": "markdown",
      "metadata": {},
      "source": [
        "### 2) 'SeniorCitizen' fue manejado con valores booleanos, mientras que el resto de columnas con \"Si\" y \"No\", son cadenas."
      ]
    },
    {
      "cell_type": "markdown",
      "metadata": {},
      "source": [
        "Decidí que para manejar las inconsistencias en el punto 2, lo más conveniente (para análisis de datos), era estandarizar los demás campos que venían como \"Yes\" y \"No\" en int"
      ]
    },
    {
      "cell_type": "code",
      "execution_count": 415,
      "metadata": {},
      "outputs": [],
      "source": [
        "#Definimos las columnas donde vamos a convertir los 'Yes' y 'No' en 1 y 0\n",
        "columnas_yn = ['Churn',\n",
        "'SeniorCitizen',\n",
        "'Partner',\n",
        "'Dependents',\n",
        "'PhoneService',\n",
        "'MultipleLines',\n",
        "'OnlineSecurity',\n",
        "'OnlineBackup',\n",
        "'DeviceProtection',\n",
        "'TechSupport',\n",
        "'StreamingTV',\n",
        "'StreamingMovies',\n",
        "'PaperlessBilling']"
      ]
    },
    {
      "cell_type": "code",
      "execution_count": 416,
      "metadata": {},
      "outputs": [
        {
          "name": "stdout",
          "output_type": "stream",
          "text": [
            "Churn: [0 1]\n",
            "SeniorCitizen: [0 1]\n",
            "Partner: [1 0]\n",
            "Dependents: [1 0]\n",
            "PhoneService: [1 0]\n",
            "MultipleLines: [0 1 2]\n",
            "OnlineSecurity: [0 1 2]\n",
            "OnlineBackup: [1 0 2]\n",
            "DeviceProtection: [0 1 2]\n",
            "TechSupport: [1 0 2]\n",
            "StreamingTV: [1 0 2]\n",
            "StreamingMovies: [0 1 2]\n",
            "PaperlessBilling: [1 0]\n"
          ]
        }
      ],
      "source": [
        "#Creamos una función para cambiar sus valores de 'Si' a 1 y de 'No' a 0.\n",
        "for columna in columnas_yn:\n",
        "    df_telecomx[columna] = [1 if x == 'Yes' or x == 1 else (0 if x == 'No' or x == 0 else 2) for x in df_telecomx[columna]]\n",
        "\n",
        "# Verificación\n",
        "for columna in columnas_yn:\n",
        "    print(f\"{columna}: {df_telecomx[columna].unique()}\")"
      ]
    },
    {
      "cell_type": "code",
      "execution_count": 417,
      "metadata": {},
      "outputs": [],
      "source": [
        "#El campo de género de los clientes está en inglés, lo traducimos al español\n",
        "#df_telecomx['gender'] = ['Masculino' if x == 'Male' 'Femenino' elif x == 'Female' for x in df_telecomx['gender']]\n",
        "\n"
      ]
    },
    {
      "cell_type": "code",
      "execution_count": 418,
      "metadata": {},
      "outputs": [
        {
          "data": {
            "text/plain": [
              "array(['Female', 'Male'], dtype=object)"
            ]
          },
          "execution_count": 418,
          "metadata": {},
          "output_type": "execute_result"
        }
      ],
      "source": [
        "#Comprobando diferentes resultados de la columna 'gender'\n",
        "df_telecomx['gender'].unique()"
      ]
    },
    {
      "cell_type": "code",
      "execution_count": 419,
      "metadata": {},
      "outputs": [],
      "source": [
        "#Traduciendo la columna 'gender'\n",
        "df_telecomx['gender'] = ['Masculino' if x == 'Male' else 'Femenino' for x in df_telecomx['gender']]"
      ]
    },
    {
      "cell_type": "code",
      "execution_count": 420,
      "metadata": {},
      "outputs": [
        {
          "data": {
            "text/plain": [
              "array(['Femenino', 'Masculino'], dtype=object)"
            ]
          },
          "execution_count": 420,
          "metadata": {},
          "output_type": "execute_result"
        }
      ],
      "source": [
        "#Verificando los cambios\n",
        "df_telecomx['gender'].unique()"
      ]
    },
    {
      "cell_type": "code",
      "execution_count": 421,
      "metadata": {},
      "outputs": [
        {
          "name": "stdout",
          "output_type": "stream",
          "text": [
            "['DSL' 'Fiber optic' 'No']\n",
            "['One year' 'Month-to-month' 'Two year']\n",
            "['Mailed check' 'Electronic check' 'Credit card (automatic)'\n",
            " 'Bank transfer (automatic)']\n"
          ]
        }
      ],
      "source": [
        "#Revisando los posibles valore de columnas que también se encuentran en inglés\n",
        "print(df_telecomx['InternetService'].unique())\n",
        "print(df_telecomx['Contract'].unique())\n",
        "print(df_telecomx['PaymentMethod'].unique())"
      ]
    },
    {
      "cell_type": "code",
      "execution_count": 422,
      "metadata": {},
      "outputs": [],
      "source": [
        "#Traduciendo estas columnas\n",
        "df_telecomx['InternetService'] = df_telecomx['InternetService'].map({'DSL': 'DSL', 'Fiber optic': 'Fibra óptica', 'No':'No'})\n",
        "df_telecomx['Contract'] = df_telecomx['Contract'].map({'One year': 'Anual', 'Month-to-month': 'Mensual', 'Two year': 'Bienal'})\n",
        "df_telecomx['PaymentMethod'] = df_telecomx['PaymentMethod'].map({'Mailed check': 'Cheque', 'Electronic check': 'Cheque electrónico', 'Credit card (automatic)':'TDC',\n",
        " 'Bank transfer (automatic)':'Tranferencia electrónica'})"
      ]
    },
    {
      "cell_type": "code",
      "execution_count": 423,
      "metadata": {},
      "outputs": [
        {
          "data": {
            "text/html": [
              "<div>\n",
              "<style scoped>\n",
              "    .dataframe tbody tr th:only-of-type {\n",
              "        vertical-align: middle;\n",
              "    }\n",
              "\n",
              "    .dataframe tbody tr th {\n",
              "        vertical-align: top;\n",
              "    }\n",
              "\n",
              "    .dataframe thead th {\n",
              "        text-align: right;\n",
              "    }\n",
              "</style>\n",
              "<table border=\"1\" class=\"dataframe\">\n",
              "  <thead>\n",
              "    <tr style=\"text-align: right;\">\n",
              "      <th></th>\n",
              "      <th>customerID</th>\n",
              "      <th>Churn</th>\n",
              "      <th>gender</th>\n",
              "      <th>SeniorCitizen</th>\n",
              "      <th>Partner</th>\n",
              "      <th>Dependents</th>\n",
              "      <th>tenure</th>\n",
              "      <th>PhoneService</th>\n",
              "      <th>MultipleLines</th>\n",
              "      <th>InternetService</th>\n",
              "      <th>OnlineSecurity</th>\n",
              "      <th>OnlineBackup</th>\n",
              "      <th>DeviceProtection</th>\n",
              "      <th>TechSupport</th>\n",
              "      <th>StreamingTV</th>\n",
              "      <th>StreamingMovies</th>\n",
              "      <th>Contract</th>\n",
              "      <th>PaperlessBilling</th>\n",
              "      <th>PaymentMethod</th>\n",
              "      <th>Charges.Monthly</th>\n",
              "      <th>Charges.Total</th>\n",
              "    </tr>\n",
              "  </thead>\n",
              "  <tbody>\n",
              "    <tr>\n",
              "      <th>0</th>\n",
              "      <td>0002-ORFBO</td>\n",
              "      <td>0</td>\n",
              "      <td>Femenino</td>\n",
              "      <td>0</td>\n",
              "      <td>1</td>\n",
              "      <td>1</td>\n",
              "      <td>9</td>\n",
              "      <td>1</td>\n",
              "      <td>0</td>\n",
              "      <td>DSL</td>\n",
              "      <td>0</td>\n",
              "      <td>1</td>\n",
              "      <td>0</td>\n",
              "      <td>1</td>\n",
              "      <td>1</td>\n",
              "      <td>0</td>\n",
              "      <td>Anual</td>\n",
              "      <td>1</td>\n",
              "      <td>Cheque</td>\n",
              "      <td>65.6</td>\n",
              "      <td>593.3</td>\n",
              "    </tr>\n",
              "    <tr>\n",
              "      <th>1</th>\n",
              "      <td>0003-MKNFE</td>\n",
              "      <td>0</td>\n",
              "      <td>Masculino</td>\n",
              "      <td>0</td>\n",
              "      <td>0</td>\n",
              "      <td>0</td>\n",
              "      <td>9</td>\n",
              "      <td>1</td>\n",
              "      <td>1</td>\n",
              "      <td>DSL</td>\n",
              "      <td>0</td>\n",
              "      <td>0</td>\n",
              "      <td>0</td>\n",
              "      <td>0</td>\n",
              "      <td>0</td>\n",
              "      <td>1</td>\n",
              "      <td>Mensual</td>\n",
              "      <td>0</td>\n",
              "      <td>Cheque</td>\n",
              "      <td>59.9</td>\n",
              "      <td>542.4</td>\n",
              "    </tr>\n",
              "    <tr>\n",
              "      <th>2</th>\n",
              "      <td>0004-TLHLJ</td>\n",
              "      <td>1</td>\n",
              "      <td>Masculino</td>\n",
              "      <td>0</td>\n",
              "      <td>0</td>\n",
              "      <td>0</td>\n",
              "      <td>4</td>\n",
              "      <td>1</td>\n",
              "      <td>0</td>\n",
              "      <td>Fibra óptica</td>\n",
              "      <td>0</td>\n",
              "      <td>0</td>\n",
              "      <td>1</td>\n",
              "      <td>0</td>\n",
              "      <td>0</td>\n",
              "      <td>0</td>\n",
              "      <td>Mensual</td>\n",
              "      <td>1</td>\n",
              "      <td>Cheque electrónico</td>\n",
              "      <td>73.9</td>\n",
              "      <td>280.85</td>\n",
              "    </tr>\n",
              "  </tbody>\n",
              "</table>\n",
              "</div>"
            ],
            "text/plain": [
              "   customerID  Churn     gender  SeniorCitizen  Partner  Dependents  tenure  \\\n",
              "0  0002-ORFBO      0   Femenino              0        1           1       9   \n",
              "1  0003-MKNFE      0  Masculino              0        0           0       9   \n",
              "2  0004-TLHLJ      1  Masculino              0        0           0       4   \n",
              "\n",
              "   PhoneService  MultipleLines InternetService  OnlineSecurity  OnlineBackup  \\\n",
              "0             1              0             DSL               0             1   \n",
              "1             1              1             DSL               0             0   \n",
              "2             1              0    Fibra óptica               0             0   \n",
              "\n",
              "   DeviceProtection  TechSupport  StreamingTV  StreamingMovies Contract  \\\n",
              "0                 0            1            1                0    Anual   \n",
              "1                 0            0            0                1  Mensual   \n",
              "2                 1            0            0                0  Mensual   \n",
              "\n",
              "   PaperlessBilling       PaymentMethod  Charges.Monthly Charges.Total  \n",
              "0                 1              Cheque             65.6         593.3  \n",
              "1                 0              Cheque             59.9         542.4  \n",
              "2                 1  Cheque electrónico             73.9        280.85  "
            ]
          },
          "execution_count": 423,
          "metadata": {},
          "output_type": "execute_result"
        }
      ],
      "source": [
        "#Verificamos el dataframe\n",
        "df_telecomx.head(3)"
      ]
    },
    {
      "cell_type": "code",
      "execution_count": 424,
      "metadata": {},
      "outputs": [],
      "source": [
        "#Definimos las columnas que vamos a convertir en int\n",
        "columnas_a_int = ['Churn',\n",
        "'SeniorCitizen',\n",
        "'Partner',\n",
        "'Dependents',\n",
        "'PhoneService',\n",
        "'MultipleLines',\n",
        "'OnlineSecurity',\n",
        "'OnlineBackup',\n",
        "'DeviceProtection',\n",
        "'TechSupport',\n",
        "'StreamingTV',\n",
        "'StreamingMovies',\n",
        "'PaperlessBilling']"
      ]
    },
    {
      "cell_type": "code",
      "execution_count": 425,
      "metadata": {},
      "outputs": [
        {
          "name": "stdout",
          "output_type": "stream",
          "text": [
            "int64\n",
            "int64\n",
            "int64\n",
            "int64\n",
            "int64\n",
            "int64\n",
            "int64\n",
            "int64\n",
            "int64\n",
            "int64\n",
            "int64\n",
            "int64\n",
            "int64\n"
          ]
        }
      ],
      "source": [
        "#Verificando el tipo de valores en las columnas\n",
        "for x in columnas_a_int:\n",
        "    print(df_telecomx[x].dtype)"
      ]
    },
    {
      "cell_type": "markdown",
      "metadata": {},
      "source": [
        "### 4) 'Charges.Total' debería ser un 'float', no 'object'."
      ]
    },
    {
      "cell_type": "code",
      "execution_count": 426,
      "metadata": {},
      "outputs": [],
      "source": [
        "#Convirtiendo 'Charges.Total' a float\n",
        "df_telecomx['Charges.Total'] = pd.to_numeric(df_telecomx['Charges.Total'], errors='coerce')"
      ]
    },
    {
      "cell_type": "code",
      "execution_count": 427,
      "metadata": {},
      "outputs": [
        {
          "data": {
            "text/plain": [
              "dtype('float64')"
            ]
          },
          "execution_count": 427,
          "metadata": {},
          "output_type": "execute_result"
        }
      ],
      "source": [
        "#Verificando el tipo de dato en 'Charges.Total'\n",
        "df_telecomx['Charges.Total'].dtype"
      ]
    },
    {
      "cell_type": "markdown",
      "metadata": {},
      "source": [
        "### 5) Se puede traducir al español para  mejor comprensión del dataset"
      ]
    },
    {
      "cell_type": "code",
      "execution_count": 428,
      "metadata": {},
      "outputs": [],
      "source": [
        "#Creando diccionario para traducir los encabezados de las columnas\n",
        "\n",
        "df_telecomx.rename(columns={\n",
        "    \"customerID\": \"id_cliente\",\n",
        "    \"Churn\": \"cancelacion\",\n",
        "    \"gender\": \"genero\",\n",
        "    \"SeniorCitizen\": \"adulto_mayor\",\n",
        "    \"Partner\": \"tiene_pareja\",\n",
        "    \"Dependents\": \"tiene_dependientes\",\n",
        "    \"tenure\": \"antiguedad\",\n",
        "    \"PhoneService\": \"servicio_de_telefono\",\n",
        "    \"MultipleLines\": \"lineas_multiples\",\n",
        "    \"InternetService\": \"servicio_internet\",\n",
        "    \"OnlineSecurity\": \"seguridad_en_linea\",\n",
        "    \"OnlineBackup\": \"respaldo_en_linea\",\n",
        "    \"DeviceProtection\": \"proteccion_dispositivo\",\n",
        "    \"TechSupport\": \"soporte_tecnico\",\n",
        "    \"StreamingTV\": \"streaming_tv\",\n",
        "    \"StreamingMovies\": \"streaming_peliculas\",\n",
        "    \"Contract\": \"periodicidad_de_contrato\",\n",
        "    \"PaperlessBilling\": \"factura_electronica\",\n",
        "    \"PaymentMethod\": \"forma_de_pago\",\n",
        "    \"Charges.Monthly\": \"cargos_mensuales\",\n",
        "    \"Charges.Total\": \"cargos_totales\",\n",
        "}, inplace=True)"
      ]
    },
    {
      "cell_type": "markdown",
      "metadata": {},
      "source": [
        "## Columna de cuentas diarias"
      ]
    },
    {
      "cell_type": "code",
      "execution_count": 429,
      "metadata": {},
      "outputs": [],
      "source": [
        "#Creando la nueva columna que representa los cargos diarios que se le hacen al cliente\n",
        "df_telecomx['cargos_diarios'] = df_telecomx['cargos_mensuales'] / 30.44"
      ]
    },
    {
      "cell_type": "code",
      "execution_count": 430,
      "metadata": {},
      "outputs": [
        {
          "data": {
            "text/html": [
              "<div>\n",
              "<style scoped>\n",
              "    .dataframe tbody tr th:only-of-type {\n",
              "        vertical-align: middle;\n",
              "    }\n",
              "\n",
              "    .dataframe tbody tr th {\n",
              "        vertical-align: top;\n",
              "    }\n",
              "\n",
              "    .dataframe thead th {\n",
              "        text-align: right;\n",
              "    }\n",
              "</style>\n",
              "<table border=\"1\" class=\"dataframe\">\n",
              "  <thead>\n",
              "    <tr style=\"text-align: right;\">\n",
              "      <th></th>\n",
              "      <th>id_cliente</th>\n",
              "      <th>cancelacion</th>\n",
              "      <th>genero</th>\n",
              "      <th>adulto_mayor</th>\n",
              "      <th>tiene_pareja</th>\n",
              "      <th>tiene_dependientes</th>\n",
              "      <th>antiguedad</th>\n",
              "      <th>servicio_de_telefono</th>\n",
              "      <th>lineas_multiples</th>\n",
              "      <th>servicio_internet</th>\n",
              "      <th>seguridad_en_linea</th>\n",
              "      <th>respaldo_en_linea</th>\n",
              "      <th>proteccion_dispositivo</th>\n",
              "      <th>soporte_tecnico</th>\n",
              "      <th>streaming_tv</th>\n",
              "      <th>streaming_peliculas</th>\n",
              "      <th>periodicidad_de_contrato</th>\n",
              "      <th>factura_electronica</th>\n",
              "      <th>forma_de_pago</th>\n",
              "      <th>cargos_mensuales</th>\n",
              "      <th>cargos_totales</th>\n",
              "      <th>cargos_diarios</th>\n",
              "    </tr>\n",
              "  </thead>\n",
              "  <tbody>\n",
              "    <tr>\n",
              "      <th>0</th>\n",
              "      <td>0002-ORFBO</td>\n",
              "      <td>0</td>\n",
              "      <td>Femenino</td>\n",
              "      <td>0</td>\n",
              "      <td>1</td>\n",
              "      <td>1</td>\n",
              "      <td>9</td>\n",
              "      <td>1</td>\n",
              "      <td>0</td>\n",
              "      <td>DSL</td>\n",
              "      <td>0</td>\n",
              "      <td>1</td>\n",
              "      <td>0</td>\n",
              "      <td>1</td>\n",
              "      <td>1</td>\n",
              "      <td>0</td>\n",
              "      <td>Anual</td>\n",
              "      <td>1</td>\n",
              "      <td>Cheque</td>\n",
              "      <td>65.6</td>\n",
              "      <td>593.30</td>\n",
              "      <td>2.155059</td>\n",
              "    </tr>\n",
              "    <tr>\n",
              "      <th>1</th>\n",
              "      <td>0003-MKNFE</td>\n",
              "      <td>0</td>\n",
              "      <td>Masculino</td>\n",
              "      <td>0</td>\n",
              "      <td>0</td>\n",
              "      <td>0</td>\n",
              "      <td>9</td>\n",
              "      <td>1</td>\n",
              "      <td>1</td>\n",
              "      <td>DSL</td>\n",
              "      <td>0</td>\n",
              "      <td>0</td>\n",
              "      <td>0</td>\n",
              "      <td>0</td>\n",
              "      <td>0</td>\n",
              "      <td>1</td>\n",
              "      <td>Mensual</td>\n",
              "      <td>0</td>\n",
              "      <td>Cheque</td>\n",
              "      <td>59.9</td>\n",
              "      <td>542.40</td>\n",
              "      <td>1.967806</td>\n",
              "    </tr>\n",
              "    <tr>\n",
              "      <th>2</th>\n",
              "      <td>0004-TLHLJ</td>\n",
              "      <td>1</td>\n",
              "      <td>Masculino</td>\n",
              "      <td>0</td>\n",
              "      <td>0</td>\n",
              "      <td>0</td>\n",
              "      <td>4</td>\n",
              "      <td>1</td>\n",
              "      <td>0</td>\n",
              "      <td>Fibra óptica</td>\n",
              "      <td>0</td>\n",
              "      <td>0</td>\n",
              "      <td>1</td>\n",
              "      <td>0</td>\n",
              "      <td>0</td>\n",
              "      <td>0</td>\n",
              "      <td>Mensual</td>\n",
              "      <td>1</td>\n",
              "      <td>Cheque electrónico</td>\n",
              "      <td>73.9</td>\n",
              "      <td>280.85</td>\n",
              "      <td>2.427727</td>\n",
              "    </tr>\n",
              "  </tbody>\n",
              "</table>\n",
              "</div>"
            ],
            "text/plain": [
              "   id_cliente  cancelacion     genero  adulto_mayor  tiene_pareja  \\\n",
              "0  0002-ORFBO            0   Femenino             0             1   \n",
              "1  0003-MKNFE            0  Masculino             0             0   \n",
              "2  0004-TLHLJ            1  Masculino             0             0   \n",
              "\n",
              "   tiene_dependientes  antiguedad  servicio_de_telefono  lineas_multiples  \\\n",
              "0                   1           9                     1                 0   \n",
              "1                   0           9                     1                 1   \n",
              "2                   0           4                     1                 0   \n",
              "\n",
              "  servicio_internet  seguridad_en_linea  respaldo_en_linea  \\\n",
              "0               DSL                   0                  1   \n",
              "1               DSL                   0                  0   \n",
              "2      Fibra óptica                   0                  0   \n",
              "\n",
              "   proteccion_dispositivo  soporte_tecnico  streaming_tv  streaming_peliculas  \\\n",
              "0                       0                1             1                    0   \n",
              "1                       0                0             0                    1   \n",
              "2                       1                0             0                    0   \n",
              "\n",
              "  periodicidad_de_contrato  factura_electronica       forma_de_pago  \\\n",
              "0                    Anual                    1              Cheque   \n",
              "1                  Mensual                    0              Cheque   \n",
              "2                  Mensual                    1  Cheque electrónico   \n",
              "\n",
              "   cargos_mensuales  cargos_totales  cargos_diarios  \n",
              "0              65.6          593.30        2.155059  \n",
              "1              59.9          542.40        1.967806  \n",
              "2              73.9          280.85        2.427727  "
            ]
          },
          "execution_count": 430,
          "metadata": {},
          "output_type": "execute_result"
        }
      ],
      "source": [
        "df_telecomx.head(3)"
      ]
    },
    {
      "cell_type": "markdown",
      "metadata": {
        "id": "6XnTC2NTmMRL"
      },
      "source": [
        "# 📊 Carga y análisis"
      ]
    },
    {
      "cell_type": "markdown",
      "metadata": {},
      "source": [
        "## Análisis Descriptivo"
      ]
    },
    {
      "cell_type": "code",
      "execution_count": 431,
      "metadata": {
        "id": "1jgUnLqTmPdd"
      },
      "outputs": [
        {
          "data": {
            "text/html": [
              "<div>\n",
              "<style scoped>\n",
              "    .dataframe tbody tr th:only-of-type {\n",
              "        vertical-align: middle;\n",
              "    }\n",
              "\n",
              "    .dataframe tbody tr th {\n",
              "        vertical-align: top;\n",
              "    }\n",
              "\n",
              "    .dataframe thead th {\n",
              "        text-align: right;\n",
              "    }\n",
              "</style>\n",
              "<table border=\"1\" class=\"dataframe\">\n",
              "  <thead>\n",
              "    <tr style=\"text-align: right;\">\n",
              "      <th></th>\n",
              "      <th>antiguedad</th>\n",
              "      <th>cargos_mensuales</th>\n",
              "      <th>cargos_totales</th>\n",
              "      <th>cargos_diarios</th>\n",
              "    </tr>\n",
              "  </thead>\n",
              "  <tbody>\n",
              "    <tr>\n",
              "      <th>count</th>\n",
              "      <td>7043.000000</td>\n",
              "      <td>7043.000000</td>\n",
              "      <td>7032.000000</td>\n",
              "      <td>7043.000000</td>\n",
              "    </tr>\n",
              "    <tr>\n",
              "      <th>mean</th>\n",
              "      <td>32.371149</td>\n",
              "      <td>64.761692</td>\n",
              "      <td>2283.300441</td>\n",
              "      <td>2.127519</td>\n",
              "    </tr>\n",
              "    <tr>\n",
              "      <th>std</th>\n",
              "      <td>24.559481</td>\n",
              "      <td>30.090047</td>\n",
              "      <td>2266.771362</td>\n",
              "      <td>0.988504</td>\n",
              "    </tr>\n",
              "    <tr>\n",
              "      <th>min</th>\n",
              "      <td>0.000000</td>\n",
              "      <td>18.250000</td>\n",
              "      <td>18.800000</td>\n",
              "      <td>0.599540</td>\n",
              "    </tr>\n",
              "    <tr>\n",
              "      <th>25%</th>\n",
              "      <td>9.000000</td>\n",
              "      <td>35.500000</td>\n",
              "      <td>401.450000</td>\n",
              "      <td>1.166229</td>\n",
              "    </tr>\n",
              "    <tr>\n",
              "      <th>50%</th>\n",
              "      <td>29.000000</td>\n",
              "      <td>70.350000</td>\n",
              "      <td>1397.475000</td>\n",
              "      <td>2.311104</td>\n",
              "    </tr>\n",
              "    <tr>\n",
              "      <th>75%</th>\n",
              "      <td>55.000000</td>\n",
              "      <td>89.850000</td>\n",
              "      <td>3794.737500</td>\n",
              "      <td>2.951708</td>\n",
              "    </tr>\n",
              "    <tr>\n",
              "      <th>max</th>\n",
              "      <td>72.000000</td>\n",
              "      <td>118.750000</td>\n",
              "      <td>8684.800000</td>\n",
              "      <td>3.901117</td>\n",
              "    </tr>\n",
              "  </tbody>\n",
              "</table>\n",
              "</div>"
            ],
            "text/plain": [
              "        antiguedad  cargos_mensuales  cargos_totales  cargos_diarios\n",
              "count  7043.000000       7043.000000     7032.000000     7043.000000\n",
              "mean     32.371149         64.761692     2283.300441        2.127519\n",
              "std      24.559481         30.090047     2266.771362        0.988504\n",
              "min       0.000000         18.250000       18.800000        0.599540\n",
              "25%       9.000000         35.500000      401.450000        1.166229\n",
              "50%      29.000000         70.350000     1397.475000        2.311104\n",
              "75%      55.000000         89.850000     3794.737500        2.951708\n",
              "max      72.000000        118.750000     8684.800000        3.901117"
            ]
          },
          "execution_count": 431,
          "metadata": {},
          "output_type": "execute_result"
        }
      ],
      "source": [
        "#Análisis exploratorio de los datos. Incluimos solo las columnas que no tienen datos booleanos.\n",
        "columnas_descritas = ['antiguedad', 'cargos_mensuales', 'cargos_totales', 'cargos_diarios']\n",
        "df_telecomx[columnas_descritas].describe()"
      ]
    },
    {
      "cell_type": "code",
      "execution_count": 432,
      "metadata": {},
      "outputs": [
        {
          "name": "stdout",
          "output_type": "stream",
          "text": [
            "El promedio de los cargos mensuales es de: $64.76\n",
            "El promedio de los cargos totales es de: $2283.30\n",
            "El promedio de los cargos diarios es de: $2.13\n"
          ]
        }
      ],
      "source": [
        "#Revisando el promedio de las columnas de cargos \n",
        "promedio_cmensuales = df_telecomx['cargos_mensuales'].mean()\n",
        "promedio_ctotales = df_telecomx['cargos_totales'].mean()\n",
        "promedio_cdiarios = df_telecomx['cargos_diarios'].mean()\n",
        "\n",
        "print(f'El promedio de los cargos mensuales es de: ${promedio_cmensuales:.2f}')\n",
        "print(f'El promedio de los cargos totales es de: ${promedio_ctotales:.2f}')\n",
        "print(f'El promedio de los cargos diarios es de: ${promedio_cdiarios:.2f}')"
      ]
    },
    {
      "cell_type": "code",
      "execution_count": 433,
      "metadata": {},
      "outputs": [
        {
          "name": "stdout",
          "output_type": "stream",
          "text": [
            "La mediana de los cargos mensuales es de: $70.35\n",
            "La mediana de los cargos totales es de: $1397.47\n",
            "La mediana de los cargos diarios es de: $2.31\n"
          ]
        }
      ],
      "source": [
        "#Revisando la mediana de las columnas de cargos \n",
        "mediana_cmensuales = df_telecomx['cargos_mensuales'].median()\n",
        "mediana_ctotales = df_telecomx['cargos_totales'].median()\n",
        "mediana_cdiarios = df_telecomx['cargos_diarios'].median()\n",
        "\n",
        "print(f'La mediana de los cargos mensuales es de: ${mediana_cmensuales:.2f}')\n",
        "print(f'La mediana de los cargos totales es de: ${mediana_ctotales:.2f}')\n",
        "print(f'La mediana de los cargos diarios es de: ${mediana_cdiarios:.2f}')"
      ]
    },
    {
      "cell_type": "code",
      "execution_count": 434,
      "metadata": {},
      "outputs": [
        {
          "name": "stdout",
          "output_type": "stream",
          "text": [
            "La desviación estándar de los cargos mensuales es de: $30.09\n",
            "La desviación estándar de los cargos totales es de: $2266.77\n",
            "La desviación estándar de los cargos diarios es de: $0.99\n"
          ]
        }
      ],
      "source": [
        "#Revisando el desviación estándar de las columnas de cargos \n",
        "desvest_cmensuales = df_telecomx['cargos_mensuales'].std()\n",
        "desvest_ctotales = df_telecomx['cargos_totales'].std()\n",
        "desvest_cdiarios = df_telecomx['cargos_diarios'].std()\n",
        "\n",
        "print(f'La desviación estándar de los cargos mensuales es de: ${desvest_cmensuales:.2f}')\n",
        "print(f'La desviación estándar de los cargos totales es de: ${desvest_ctotales:.2f}')\n",
        "print(f'La desviación estándar de los cargos diarios es de: ${desvest_cdiarios:.2f}')"
      ]
    },
    {
      "cell_type": "code",
      "execution_count": 435,
      "metadata": {},
      "outputs": [],
      "source": [
        "#Calculando los porcentajes de las diferentes variables booleanas.\n",
        "porcentajes = []\n",
        "porcentajes.append(len(df_telecomx[df_telecomx['genero']=='Masculino'])/len(df_telecomx['genero'])*100)\n",
        "porcentajes.append(len(df_telecomx[df_telecomx['genero']=='Femenino'])/len(df_telecomx['genero'])*100)\n",
        "\n",
        "#Función que calcula el porcentaje de la categoría\n",
        "def porcentaje_categoria(categoria):\n",
        "    return len(df_telecomx[df_telecomx[categoria]==1])/len(df_telecomx[categoria])*100\n",
        "\n",
        "\n",
        "columnas_binarias = ['adulto_mayor', \"tiene_pareja\", \"tiene_dependientes\", \"servicio_de_telefono\", \"lineas_multiples\", \"seguridad_en_linea\", \n",
        "                     \"respaldo_en_linea\", \"proteccion_dispositivo\", \"soporte_tecnico\", \"streaming_tv\", \"streaming_peliculas\", \"factura_electronica\"]\n",
        "\n",
        "for columna in columnas_binarias:\n",
        "    porcentajes.append(porcentaje_categoria(columna))"
      ]
    },
    {
      "cell_type": "code",
      "execution_count": 436,
      "metadata": {},
      "outputs": [
        {
          "name": "stdout",
          "output_type": "stream",
          "text": [
            "El porcentaje de clientes masculinos es de 50.48% y de femeninos es 49.52%\n",
            "El porcentaje de clientes que son adultos mayores es de 16.21%\n",
            "El porcentaje de clientes con pareja es de 48.30%\n",
            "El porcentaje de clientes con dependientes es de 29.96%\n",
            "El porcentaje de clientes con servicio de teléfono es de 90.32%\n",
            "El porcentaje de clientes con múltiples líneas es de 42.18%\n",
            "El porcentaje de clientes con seguridad en línea es de 28.67%\n",
            "El porcentaje de clientes con respaldo en línea es de 34.49%\n",
            "El porcentaje de clientes con protección de dispositivos es de 34.39%\n",
            "El porcentaje de clientes con soporte técnico es de 29.02%\n",
            "El porcentaje de clientes con servicio de streaming de televisión es de 38.44%\n",
            "El porcentaje de clientes con servicio de streaming de películas es de 38.79%\n",
            "El porcentaje de clientes con factura electrónica es de 59.22%\n"
          ]
        }
      ],
      "source": [
        "print(f'El porcentaje de clientes masculinos es de {porcentajes[0]:.2f}% y de femeninos es {porcentajes[1]:.2f}%')\n",
        "print(f'El porcentaje de clientes que son adultos mayores es de {porcentajes[2]:.2f}%')\n",
        "print(f'El porcentaje de clientes con pareja es de {porcentajes[3]:.2f}%')\n",
        "print(f'El porcentaje de clientes con dependientes es de {porcentajes[4]:.2f}%')\n",
        "print(f'El porcentaje de clientes con servicio de teléfono es de {porcentajes[5]:.2f}%')\n",
        "print(f'El porcentaje de clientes con múltiples líneas es de {porcentajes[6]:.2f}%')\n",
        "print(f'El porcentaje de clientes con seguridad en línea es de {porcentajes[7]:.2f}%')\n",
        "print(f'El porcentaje de clientes con respaldo en línea es de {porcentajes[8]:.2f}%')\n",
        "print(f'El porcentaje de clientes con protección de dispositivos es de {porcentajes[9]:.2f}%')\n",
        "print(f'El porcentaje de clientes con soporte técnico es de {porcentajes[10]:.2f}%')\n",
        "print(f'El porcentaje de clientes con servicio de streaming de televisión es de {porcentajes[11]:.2f}%')\n",
        "print(f'El porcentaje de clientes con servicio de streaming de películas es de {porcentajes[12]:.2f}%')\n",
        "print(f'El porcentaje de clientes con factura electrónica es de {porcentajes[13]:.2f}%')"
      ]
    },
    {
      "cell_type": "code",
      "execution_count": 437,
      "metadata": {},
      "outputs": [],
      "source": [
        "cantidad_cancelada = df_telecomx['cancelacion'].value_counts()"
      ]
    },
    {
      "cell_type": "code",
      "execution_count": 459,
      "metadata": {},
      "outputs": [
        {
          "data": {
            "image/png": "[encoded data removed]",
            "text/plain": [
              "<Figure size 640x480 with 1 Axes>"
            ]
          },
          "metadata": {},
          "output_type": "display_data"
        }
      ],
      "source": [
        "#Función graficadora\n",
        "def grafica_cancelaciones(datos, ax, titulo):\n",
        "    plt.pie(datos, colors = ['#5975A4', \"#DB5461\"], labels = ['Cliente vigente', 'Cancelado'], autopct= lambda x: '{:.0f}'.format(x*datos.sum()/100))\n",
        "    plt.title(titulo, fontsize = 16)\n",
        "\n",
        "grafica_cancelaciones(cantidad_cancelada, g1, 'Distribución de cancelación de clientes')"
      ]
    },
    {
      "cell_type": "code",
      "execution_count": 439,
      "metadata": {},
      "outputs": [],
      "source": [
        "hombres = df_telecomx[df_telecomx['genero'] == 'Masculino']['cancelacion'].value_counts()\n",
        "mujeres = df_telecomx[df_telecomx['genero'] == 'Femenino']['cancelacion'].value_counts()"
      ]
    },
    {
      "cell_type": "code",
      "execution_count": null,
      "metadata": {},
      "outputs": [
        {
          "data": {
            "image/png": "[encoded data removed]",
            "text/plain": [
              "<Figure size 1000x500 with 2 Axes>"
            ]
          },
          "metadata": {},
          "output_type": "display_data"
        }
      ],
      "source": [
        "\n",
        "fig, ax = plt.subplots(nrows = 1, ncols = 2, figsize = (10,5))\n",
        "plt.suptitle(\"Distribución de cancelación entre hombres y mujeres\", fontsize = 18)\n",
        "fig.add_subplotplt.pie(hombres, colors = ['#5975A4', \"#DB5461\"], labels = ['Cliente vigente', 'Cancelado'], autopct= lambda x: '{:.0f}'.format(x*hombres.sum()/100))\n",
        "ax[1] = plt.pie(mujeres, colors = ['#5975A4', \"#DB5461\"], labels = ['Cliente vigente', 'Cancelado'], autopct= lambda x: '{:.0f}'.format(x*mujeres.sum()/100))\n",
        "\n",
        "plt.show()\n",
        "\n",
        "\n"
      ]
    },
    {
      "cell_type": "markdown",
      "metadata": {
        "id": "v-WzfSvTmaw9"
      },
      "source": [
        "# 📄Informe final"
      ]
    },
    {
      "cell_type": "code",
      "execution_count": null,
      "metadata": {
        "id": "XMTac0YJmeK9"
      },
      "outputs": [],
      "source": []
    }
  ],
  "metadata": {
    "colab": {
      "provenance": []
    },
    "kernelspec": {
      "display_name": "Python 3",
      "name": "python3"
    },
    "language_info": {
      "codemirror_mode": {
        "name": "ipython",
        "version": 3
      },
      "file_extension": ".py",
      "mimetype": "text/x-python",
      "name": "python",
      "nbconvert_exporter": "python",
      "pygments_lexer": "ipython3",
      "version": "3.13.5"
    }
  },
  "nbformat": 4,
  "nbformat_minor": 0
}
