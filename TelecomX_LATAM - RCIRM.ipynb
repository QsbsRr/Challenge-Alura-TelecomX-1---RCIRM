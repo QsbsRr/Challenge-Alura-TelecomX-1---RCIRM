{
  "cells": [
    {
      "cell_type": "markdown",
      "metadata": {
        "id": "4foVEKhrlqcH"
      },
      "source": [
        "#📌 Extracción"
      ]
    },
    {
      "cell_type": "code",
      "execution_count": 9,
      "metadata": {},
      "outputs": [
        {
          "data": {
            "text/plain": [
              "'Se instaló a través de la terminal\\npip install seaborn'"
            ]
          },
          "execution_count": 9,
          "metadata": {},
          "output_type": "execute_result"
        }
      ],
      "source": [
        "#Instalaciones\n",
        "'''Se instaló a través de la terminal\n",
        "pip install seaborn'''"
      ]
    },
    {
      "cell_type": "code",
      "execution_count": 10,
      "metadata": {
        "id": "1--uPM88l7JH"
      },
      "outputs": [],
      "source": [
        "#Importando las librerías necesarias\n",
        "\n",
        "import numpy as np\n",
        "import pandas as pd\n",
        "import matplotlib.pyplot as plt"
      ]
    },
    {
      "cell_type": "code",
      "execution_count": 11,
      "metadata": {},
      "outputs": [],
      "source": [
        "#Importando los datos a partir de la api\n",
        "df_json_telecomx = pd.read_json('https://raw.githubusercontent.com/ingridcristh/challenge2-data-science-LATAM/main/TelecomX_Data.json')"
      ]
    },
    {
      "cell_type": "code",
      "execution_count": 12,
      "metadata": {},
      "outputs": [
        {
          "data": {
            "text/html": [
              "<div>\n",
              "<style scoped>\n",
              "    .dataframe tbody tr th:only-of-type {\n",
              "        vertical-align: middle;\n",
              "    }\n",
              "\n",
              "    .dataframe tbody tr th {\n",
              "        vertical-align: top;\n",
              "    }\n",
              "\n",
              "    .dataframe thead th {\n",
              "        text-align: right;\n",
              "    }\n",
              "</style>\n",
              "<table border=\"1\" class=\"dataframe\">\n",
              "  <thead>\n",
              "    <tr style=\"text-align: right;\">\n",
              "      <th></th>\n",
              "      <th>customerID</th>\n",
              "      <th>Churn</th>\n",
              "      <th>customer</th>\n",
              "      <th>phone</th>\n",
              "      <th>internet</th>\n",
              "      <th>account</th>\n",
              "    </tr>\n",
              "  </thead>\n",
              "  <tbody>\n",
              "    <tr>\n",
              "      <th>0</th>\n",
              "      <td>0002-ORFBO</td>\n",
              "      <td>No</td>\n",
              "      <td>{'gender': 'Female', 'SeniorCitizen': 0, 'Part...</td>\n",
              "      <td>{'PhoneService': 'Yes', 'MultipleLines': 'No'}</td>\n",
              "      <td>{'InternetService': 'DSL', 'OnlineSecurity': '...</td>\n",
              "      <td>{'Contract': 'One year', 'PaperlessBilling': '...</td>\n",
              "    </tr>\n",
              "    <tr>\n",
              "      <th>1</th>\n",
              "      <td>0003-MKNFE</td>\n",
              "      <td>No</td>\n",
              "      <td>{'gender': 'Male', 'SeniorCitizen': 0, 'Partne...</td>\n",
              "      <td>{'PhoneService': 'Yes', 'MultipleLines': 'Yes'}</td>\n",
              "      <td>{'InternetService': 'DSL', 'OnlineSecurity': '...</td>\n",
              "      <td>{'Contract': 'Month-to-month', 'PaperlessBilli...</td>\n",
              "    </tr>\n",
              "    <tr>\n",
              "      <th>2</th>\n",
              "      <td>0004-TLHLJ</td>\n",
              "      <td>Yes</td>\n",
              "      <td>{'gender': 'Male', 'SeniorCitizen': 0, 'Partne...</td>\n",
              "      <td>{'PhoneService': 'Yes', 'MultipleLines': 'No'}</td>\n",
              "      <td>{'InternetService': 'Fiber optic', 'OnlineSecu...</td>\n",
              "      <td>{'Contract': 'Month-to-month', 'PaperlessBilli...</td>\n",
              "    </tr>\n",
              "  </tbody>\n",
              "</table>\n",
              "</div>"
            ],
            "text/plain": [
              "   customerID Churn                                           customer  \\\n",
              "0  0002-ORFBO    No  {'gender': 'Female', 'SeniorCitizen': 0, 'Part...   \n",
              "1  0003-MKNFE    No  {'gender': 'Male', 'SeniorCitizen': 0, 'Partne...   \n",
              "2  0004-TLHLJ   Yes  {'gender': 'Male', 'SeniorCitizen': 0, 'Partne...   \n",
              "\n",
              "                                             phone  \\\n",
              "0   {'PhoneService': 'Yes', 'MultipleLines': 'No'}   \n",
              "1  {'PhoneService': 'Yes', 'MultipleLines': 'Yes'}   \n",
              "2   {'PhoneService': 'Yes', 'MultipleLines': 'No'}   \n",
              "\n",
              "                                            internet  \\\n",
              "0  {'InternetService': 'DSL', 'OnlineSecurity': '...   \n",
              "1  {'InternetService': 'DSL', 'OnlineSecurity': '...   \n",
              "2  {'InternetService': 'Fiber optic', 'OnlineSecu...   \n",
              "\n",
              "                                             account  \n",
              "0  {'Contract': 'One year', 'PaperlessBilling': '...  \n",
              "1  {'Contract': 'Month-to-month', 'PaperlessBilli...  \n",
              "2  {'Contract': 'Month-to-month', 'PaperlessBilli...  "
            ]
          },
          "execution_count": 12,
          "metadata": {},
          "output_type": "execute_result"
        }
      ],
      "source": [
        "#Echamos un vistazo al JSON\n",
        "df_json_telecomx.head(3)"
      ]
    },
    {
      "cell_type": "code",
      "execution_count": 13,
      "metadata": {},
      "outputs": [],
      "source": [
        "#Normalizamos las columnas que lo requieren\n",
        "cliente = pd.json_normalize(df_json_telecomx['customer'])\n",
        "telefono = pd.json_normalize(df_json_telecomx['phone'])\n",
        "internet = pd.json_normalize(df_json_telecomx['internet'])\n",
        "cuenta = pd.json_normalize(df_json_telecomx['account'])\n",
        "clienteid = df_json_telecomx['customerID']\n",
        "cancelacion = df_json_telecomx['Churn']"
      ]
    },
    {
      "cell_type": "code",
      "execution_count": 14,
      "metadata": {},
      "outputs": [],
      "source": [
        "#Concatenando los datos normalizados\n",
        "df_telecomx = pd.concat([clienteid, cancelacion, cliente, telefono, internet, cuenta], axis=1)"
      ]
    },
    {
      "cell_type": "code",
      "execution_count": 21,
      "metadata": {},
      "outputs": [
        {
          "data": {
            "text/html": [
              "<div>\n",
              "<style scoped>\n",
              "    .dataframe tbody tr th:only-of-type {\n",
              "        vertical-align: middle;\n",
              "    }\n",
              "\n",
              "    .dataframe tbody tr th {\n",
              "        vertical-align: top;\n",
              "    }\n",
              "\n",
              "    .dataframe thead th {\n",
              "        text-align: right;\n",
              "    }\n",
              "</style>\n",
              "<table border=\"1\" class=\"dataframe\">\n",
              "  <thead>\n",
              "    <tr style=\"text-align: right;\">\n",
              "      <th></th>\n",
              "      <th>customerID</th>\n",
              "      <th>Churn</th>\n",
              "      <th>gender</th>\n",
              "      <th>SeniorCitizen</th>\n",
              "      <th>Partner</th>\n",
              "      <th>Dependents</th>\n",
              "      <th>tenure</th>\n",
              "      <th>PhoneService</th>\n",
              "      <th>MultipleLines</th>\n",
              "      <th>InternetService</th>\n",
              "      <th>...</th>\n",
              "      <th>OnlineBackup</th>\n",
              "      <th>DeviceProtection</th>\n",
              "      <th>TechSupport</th>\n",
              "      <th>StreamingTV</th>\n",
              "      <th>StreamingMovies</th>\n",
              "      <th>Contract</th>\n",
              "      <th>PaperlessBilling</th>\n",
              "      <th>PaymentMethod</th>\n",
              "      <th>Charges.Monthly</th>\n",
              "      <th>Charges.Total</th>\n",
              "    </tr>\n",
              "  </thead>\n",
              "  <tbody>\n",
              "    <tr>\n",
              "      <th>0</th>\n",
              "      <td>0002-ORFBO</td>\n",
              "      <td>No</td>\n",
              "      <td>Female</td>\n",
              "      <td>0</td>\n",
              "      <td>Yes</td>\n",
              "      <td>Yes</td>\n",
              "      <td>9</td>\n",
              "      <td>Yes</td>\n",
              "      <td>No</td>\n",
              "      <td>DSL</td>\n",
              "      <td>...</td>\n",
              "      <td>Yes</td>\n",
              "      <td>No</td>\n",
              "      <td>Yes</td>\n",
              "      <td>Yes</td>\n",
              "      <td>No</td>\n",
              "      <td>One year</td>\n",
              "      <td>Yes</td>\n",
              "      <td>Mailed check</td>\n",
              "      <td>65.6</td>\n",
              "      <td>593.3</td>\n",
              "    </tr>\n",
              "    <tr>\n",
              "      <th>1</th>\n",
              "      <td>0003-MKNFE</td>\n",
              "      <td>No</td>\n",
              "      <td>Male</td>\n",
              "      <td>0</td>\n",
              "      <td>No</td>\n",
              "      <td>No</td>\n",
              "      <td>9</td>\n",
              "      <td>Yes</td>\n",
              "      <td>Yes</td>\n",
              "      <td>DSL</td>\n",
              "      <td>...</td>\n",
              "      <td>No</td>\n",
              "      <td>No</td>\n",
              "      <td>No</td>\n",
              "      <td>No</td>\n",
              "      <td>Yes</td>\n",
              "      <td>Month-to-month</td>\n",
              "      <td>No</td>\n",
              "      <td>Mailed check</td>\n",
              "      <td>59.9</td>\n",
              "      <td>542.4</td>\n",
              "    </tr>\n",
              "    <tr>\n",
              "      <th>2</th>\n",
              "      <td>0004-TLHLJ</td>\n",
              "      <td>Yes</td>\n",
              "      <td>Male</td>\n",
              "      <td>0</td>\n",
              "      <td>No</td>\n",
              "      <td>No</td>\n",
              "      <td>4</td>\n",
              "      <td>Yes</td>\n",
              "      <td>No</td>\n",
              "      <td>Fiber optic</td>\n",
              "      <td>...</td>\n",
              "      <td>No</td>\n",
              "      <td>Yes</td>\n",
              "      <td>No</td>\n",
              "      <td>No</td>\n",
              "      <td>No</td>\n",
              "      <td>Month-to-month</td>\n",
              "      <td>Yes</td>\n",
              "      <td>Electronic check</td>\n",
              "      <td>73.9</td>\n",
              "      <td>280.85</td>\n",
              "    </tr>\n",
              "    <tr>\n",
              "      <th>3</th>\n",
              "      <td>0011-IGKFF</td>\n",
              "      <td>Yes</td>\n",
              "      <td>Male</td>\n",
              "      <td>1</td>\n",
              "      <td>Yes</td>\n",
              "      <td>No</td>\n",
              "      <td>13</td>\n",
              "      <td>Yes</td>\n",
              "      <td>No</td>\n",
              "      <td>Fiber optic</td>\n",
              "      <td>...</td>\n",
              "      <td>Yes</td>\n",
              "      <td>Yes</td>\n",
              "      <td>No</td>\n",
              "      <td>Yes</td>\n",
              "      <td>Yes</td>\n",
              "      <td>Month-to-month</td>\n",
              "      <td>Yes</td>\n",
              "      <td>Electronic check</td>\n",
              "      <td>98.0</td>\n",
              "      <td>1237.85</td>\n",
              "    </tr>\n",
              "    <tr>\n",
              "      <th>4</th>\n",
              "      <td>0013-EXCHZ</td>\n",
              "      <td>Yes</td>\n",
              "      <td>Female</td>\n",
              "      <td>1</td>\n",
              "      <td>Yes</td>\n",
              "      <td>No</td>\n",
              "      <td>3</td>\n",
              "      <td>Yes</td>\n",
              "      <td>No</td>\n",
              "      <td>Fiber optic</td>\n",
              "      <td>...</td>\n",
              "      <td>No</td>\n",
              "      <td>No</td>\n",
              "      <td>Yes</td>\n",
              "      <td>Yes</td>\n",
              "      <td>No</td>\n",
              "      <td>Month-to-month</td>\n",
              "      <td>Yes</td>\n",
              "      <td>Mailed check</td>\n",
              "      <td>83.9</td>\n",
              "      <td>267.4</td>\n",
              "    </tr>\n",
              "  </tbody>\n",
              "</table>\n",
              "<p>5 rows × 21 columns</p>\n",
              "</div>"
            ],
            "text/plain": [
              "   customerID Churn  gender  SeniorCitizen Partner Dependents  tenure  \\\n",
              "0  0002-ORFBO    No  Female              0     Yes        Yes       9   \n",
              "1  0003-MKNFE    No    Male              0      No         No       9   \n",
              "2  0004-TLHLJ   Yes    Male              0      No         No       4   \n",
              "3  0011-IGKFF   Yes    Male              1     Yes         No      13   \n",
              "4  0013-EXCHZ   Yes  Female              1     Yes         No       3   \n",
              "\n",
              "  PhoneService MultipleLines InternetService  ... OnlineBackup  \\\n",
              "0          Yes            No             DSL  ...          Yes   \n",
              "1          Yes           Yes             DSL  ...           No   \n",
              "2          Yes            No     Fiber optic  ...           No   \n",
              "3          Yes            No     Fiber optic  ...          Yes   \n",
              "4          Yes            No     Fiber optic  ...           No   \n",
              "\n",
              "  DeviceProtection TechSupport StreamingTV StreamingMovies        Contract  \\\n",
              "0               No         Yes         Yes              No        One year   \n",
              "1               No          No          No             Yes  Month-to-month   \n",
              "2              Yes          No          No              No  Month-to-month   \n",
              "3              Yes          No         Yes             Yes  Month-to-month   \n",
              "4               No         Yes         Yes              No  Month-to-month   \n",
              "\n",
              "  PaperlessBilling     PaymentMethod Charges.Monthly  Charges.Total  \n",
              "0              Yes      Mailed check            65.6          593.3  \n",
              "1               No      Mailed check            59.9          542.4  \n",
              "2              Yes  Electronic check            73.9         280.85  \n",
              "3              Yes  Electronic check            98.0        1237.85  \n",
              "4              Yes      Mailed check            83.9          267.4  \n",
              "\n",
              "[5 rows x 21 columns]"
            ]
          },
          "execution_count": 21,
          "metadata": {},
          "output_type": "execute_result"
        }
      ],
      "source": [
        "#Verificación de los datos normalizados\n",
        "df_telecomx.head(5)"
      ]
    },
    {
      "cell_type": "markdown",
      "metadata": {
        "id": "1lSZP8zmmGZu"
      },
      "source": [
        "#🔧 Transformación"
      ]
    },
    {
      "cell_type": "code",
      "execution_count": 18,
      "metadata": {
        "id": "bsm-WTLjmHvt"
      },
      "outputs": [
        {
          "name": "stdout",
          "output_type": "stream",
          "text": [
            "<class 'pandas.core.frame.DataFrame'>\n",
            "RangeIndex: 7267 entries, 0 to 7266\n",
            "Data columns (total 21 columns):\n",
            " #   Column            Non-Null Count  Dtype  \n",
            "---  ------            --------------  -----  \n",
            " 0   customerID        7267 non-null   object \n",
            " 1   Churn             7267 non-null   object \n",
            " 2   gender            7267 non-null   object \n",
            " 3   SeniorCitizen     7267 non-null   int64  \n",
            " 4   Partner           7267 non-null   object \n",
            " 5   Dependents        7267 non-null   object \n",
            " 6   tenure            7267 non-null   int64  \n",
            " 7   PhoneService      7267 non-null   object \n",
            " 8   MultipleLines     7267 non-null   object \n",
            " 9   InternetService   7267 non-null   object \n",
            " 10  OnlineSecurity    7267 non-null   object \n",
            " 11  OnlineBackup      7267 non-null   object \n",
            " 12  DeviceProtection  7267 non-null   object \n",
            " 13  TechSupport       7267 non-null   object \n",
            " 14  StreamingTV       7267 non-null   object \n",
            " 15  StreamingMovies   7267 non-null   object \n",
            " 16  Contract          7267 non-null   object \n",
            " 17  PaperlessBilling  7267 non-null   object \n",
            " 18  PaymentMethod     7267 non-null   object \n",
            " 19  Charges.Monthly   7267 non-null   float64\n",
            " 20  Charges.Total     7267 non-null   object \n",
            "dtypes: float64(1), int64(2), object(18)\n",
            "memory usage: 1.2+ MB\n"
          ]
        }
      ],
      "source": [
        "#Analizando los tipos de datos del json\n",
        "df_telecomx.info()"
      ]
    },
    {
      "cell_type": "code",
      "execution_count": 19,
      "metadata": {},
      "outputs": [
        {
          "data": {
            "text/html": [
              "<div>\n",
              "<style scoped>\n",
              "    .dataframe tbody tr th:only-of-type {\n",
              "        vertical-align: middle;\n",
              "    }\n",
              "\n",
              "    .dataframe tbody tr th {\n",
              "        vertical-align: top;\n",
              "    }\n",
              "\n",
              "    .dataframe thead th {\n",
              "        text-align: right;\n",
              "    }\n",
              "</style>\n",
              "<table border=\"1\" class=\"dataframe\">\n",
              "  <thead>\n",
              "    <tr style=\"text-align: right;\">\n",
              "      <th></th>\n",
              "      <th>customerID</th>\n",
              "      <th>Churn</th>\n",
              "      <th>gender</th>\n",
              "      <th>SeniorCitizen</th>\n",
              "      <th>Partner</th>\n",
              "      <th>Dependents</th>\n",
              "      <th>tenure</th>\n",
              "      <th>PhoneService</th>\n",
              "      <th>MultipleLines</th>\n",
              "      <th>InternetService</th>\n",
              "      <th>...</th>\n",
              "      <th>OnlineBackup</th>\n",
              "      <th>DeviceProtection</th>\n",
              "      <th>TechSupport</th>\n",
              "      <th>StreamingTV</th>\n",
              "      <th>StreamingMovies</th>\n",
              "      <th>Contract</th>\n",
              "      <th>PaperlessBilling</th>\n",
              "      <th>PaymentMethod</th>\n",
              "      <th>Charges.Monthly</th>\n",
              "      <th>Charges.Total</th>\n",
              "    </tr>\n",
              "  </thead>\n",
              "  <tbody>\n",
              "  </tbody>\n",
              "</table>\n",
              "<p>0 rows × 21 columns</p>\n",
              "</div>"
            ],
            "text/plain": [
              "Empty DataFrame\n",
              "Columns: [customerID, Churn, gender, SeniorCitizen, Partner, Dependents, tenure, PhoneService, MultipleLines, InternetService, OnlineSecurity, OnlineBackup, DeviceProtection, TechSupport, StreamingTV, StreamingMovies, Contract, PaperlessBilling, PaymentMethod, Charges.Monthly, Charges.Total]\n",
              "Index: []\n",
              "\n",
              "[0 rows x 21 columns]"
            ]
          },
          "execution_count": 19,
          "metadata": {},
          "output_type": "execute_result"
        }
      ],
      "source": [
        "# Comprobar la ecistencia de registros duplicados\n",
        "datos_duplicados = df_telecomx[df_telecomx.duplicated()]\n",
        "datos_duplicados"
      ]
    },
    {
      "cell_type": "code",
      "execution_count": null,
      "metadata": {},
      "outputs": [
        {
          "data": {
            "text/plain": [
              "array(['No', 'Yes', ''], dtype=object)"
            ]
          },
          "execution_count": 20,
          "metadata": {},
          "output_type": "execute_result"
        }
      ],
      "source": [
        "pd.unique(df_telecomx['Churn'])\n",
        "pd.unique(df_telecomx['Churn'])\n",
        "pd.unique(df_telecomx['Churn'])\n",
        "pd.unique(df_telecomx['Churn'])\n",
        "pd.unique(df_telecomx['Churn'])\n",
        "pd.unique(df_telecomx['Churn'])\n",
        "pd.unique(df_telecomx['Churn'])\n"
      ]
    },
    {
      "cell_type": "code",
      "execution_count": null,
      "metadata": {},
      "outputs": [],
      "source": []
    },
    {
      "cell_type": "markdown",
      "metadata": {
        "id": "6XnTC2NTmMRL"
      },
      "source": [
        "#📊 Carga y análisis"
      ]
    },
    {
      "cell_type": "code",
      "execution_count": null,
      "metadata": {
        "id": "1jgUnLqTmPdd"
      },
      "outputs": [],
      "source": []
    },
    {
      "cell_type": "markdown",
      "metadata": {
        "id": "v-WzfSvTmaw9"
      },
      "source": [
        "#📄Informe final"
      ]
    },
    {
      "cell_type": "code",
      "execution_count": null,
      "metadata": {
        "id": "XMTac0YJmeK9"
      },
      "outputs": [],
      "source": []
    }
  ],
  "metadata": {
    "colab": {
      "provenance": []
    },
    "kernelspec": {
      "display_name": "Python 3",
      "name": "python3"
    },
    "language_info": {
      "codemirror_mode": {
        "name": "ipython",
        "version": 3
      },
      "file_extension": ".py",
      "mimetype": "text/x-python",
      "name": "python",
      "nbconvert_exporter": "python",
      "pygments_lexer": "ipython3",
      "version": "3.13.5"
    }
  },
  "nbformat": 4,
  "nbformat_minor": 0
}
